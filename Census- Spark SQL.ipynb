{
 "cells": [
  {
   "cell_type": "code",
   "execution_count": 4,
   "metadata": {
    "collapsed": false
   },
   "outputs": [],
   "source": [
    "# Find path to PySpark.\n",
    "import findspark\n",
    "findspark.init('/Users/Steve/spark-2.0.2-bin-hadoop2.6')\n",
    "\n",
    "# Import PySpark and initialize SparkContext object.\n",
    "import pyspark\n",
    "from pyspark.sql import SQLContext\n",
    "sc = pyspark.SparkContext()\n",
    "\n",
    "#Pass SparkContext object to SQL Context\n",
    "sqlContext = SQLContext(sc)"
   ]
  },
  {
   "cell_type": "code",
   "execution_count": null,
   "metadata": {
    "collapsed": false
   },
   "outputs": [],
   "source": []
  },
  {
   "cell_type": "code",
   "execution_count": 5,
   "metadata": {
    "collapsed": false
   },
   "outputs": [
    {
     "name": "stdout",
     "output_type": "stream",
     "text": [
      "['census_2010']\n"
     ]
    }
   ],
   "source": [
    "#Read data as dataframe\n",
    "CensusDF = sqlContext.read.json('data\\Census_2010.json')\n",
    "\n",
    "#Register table with SQL Context\n",
    "CensusDF.registerTempTable('Census_2010')\n",
    "print (sqlContext.tableNames())"
   ]
  },
  {
   "cell_type": "code",
   "execution_count": 5,
   "metadata": {
    "collapsed": false
   },
   "outputs": [
    {
     "name": "stdout",
     "output_type": "stream",
     "text": [
      "+---+\n",
      "|age|\n",
      "+---+\n",
      "|  0|\n",
      "|  1|\n",
      "|  2|\n",
      "|  3|\n",
      "|  4|\n",
      "+---+\n",
      "only showing top 5 rows\n",
      "\n"
     ]
    }
   ],
   "source": [
    "#Select age column\n",
    "query = 'SELECT age FROM census_2010'\n",
    "queryResult = sqlContext.sql(query)\n",
    "queryResult.show(5)"
   ]
  },
  {
   "cell_type": "code",
   "execution_count": 7,
   "metadata": {
    "collapsed": false
   },
   "outputs": [
    {
     "name": "stdout",
     "output_type": "stream",
     "text": [
      "+---+-------+-------+\n",
      "|age|  males|females|\n",
      "+---+-------+-------+\n",
      "|  6|2093905|2007781|\n",
      "|  7|2097080|2010281|\n",
      "|  8|2101670|2013771|\n",
      "|  9|2108014|2018603|\n",
      "| 10|2114217|2023289|\n",
      "+---+-------+-------+\n",
      "only showing top 5 rows\n",
      "\n"
     ]
    }
   ],
   "source": [
    "#Select age, males and females columns where 5< age < 15\n",
    "query = 'SELECT age, males, females FROM census_2010 WHERE age > 5 AND age <15'\n",
    "queryResult = sqlContext.sql(query)\n",
    "queryResult.show(5)"
   ]
  },
  {
   "cell_type": "code",
   "execution_count": 26,
   "metadata": {
    "collapsed": false,
    "scrolled": true
   },
   "outputs": [
    {
     "name": "stdout",
     "output_type": "stream",
     "text": [
      "+-------+------------------+\n",
      "|summary|             males|\n",
      "+-------+------------------+\n",
      "|  count|               101|\n",
      "|   mean|1520095.3168316833|\n",
      "| stddev|  818587.208016823|\n",
      "|    min|           1034415|\n",
      "|    max|            975512|\n",
      "+-------+------------------+\n",
      "\n",
      "+-------+-----------------+\n",
      "|summary|          females|\n",
      "+-------+-----------------+\n",
      "|  count|              101|\n",
      "|   mean|1571460.287128713|\n",
      "| stddev|748671.0493484351|\n",
      "|    min|          1018530|\n",
      "|    max|           973223|\n",
      "+-------+-----------------+\n",
      "\n"
     ]
    }
   ],
   "source": [
    "#Extract male and female columns with SQL\n",
    "#Use dataframe methods to print summary statistics\n",
    "\n",
    "query = 'SELECT males, females FROM census_2010'\n",
    "queryResult = sqlContext.sql(query)\n",
    "queryResult.describe('males').show()\n",
    "queryResult.describe('females').show()"
   ]
  },
  {
   "cell_type": "code",
   "execution_count": 10,
   "metadata": {
    "collapsed": false
   },
   "outputs": [
    {
     "name": "stdout",
     "output_type": "stream",
     "text": [
      "['census_1980', 'census_1990', 'census_2000', 'census_2010']\n"
     ]
    }
   ],
   "source": [
    "#Read additional tables into SQL Context\n",
    "Census2010df = sqlContext.read.json('data\\Census_2010.json')\n",
    "Census2010df.registerTempTable('Census_2010')\n",
    "\n",
    "Census2000df = sqlContext.read.json('data\\Census_2000.json')\n",
    "Census2000df.registerTempTable('Census_2000')\n",
    "\n",
    "Census1990df = sqlContext.read.json('data\\Census_1990.json')\n",
    "Census1990df.registerTempTable('Census_1990')\n",
    "\n",
    "print (sqlContext.tableNames())"
   ]
  },
  {
   "cell_type": "code",
   "execution_count": 11,
   "metadata": {
    "collapsed": false
   },
   "outputs": [
    {
     "name": "stdout",
     "output_type": "stream",
     "text": [
      "+----------+----------+\n",
      "|2010_Total|2000_Total|\n",
      "+----------+----------+\n",
      "|   4079669|   3733034|\n",
      "|   4085341|   3825896|\n",
      "|   4089295|   3904845|\n",
      "|   4092221|   3970865|\n",
      "|   4094802|   4024943|\n",
      "|   4097728|   4068061|\n",
      "|   4101686|   4101204|\n",
      "|   4107361|   4125360|\n",
      "|   4115441|   4141510|\n",
      "|   4126617|   4150640|\n",
      "|   4137506|   4152174|\n",
      "|   4144742|   4145530|\n",
      "|   4169316|   4139512|\n",
      "|   4220043|   4138230|\n",
      "|   4285424|   4137982|\n",
      "|   4347028|   4133932|\n",
      "|   4410804|   4130632|\n",
      "|   4451147|   4111244|\n",
      "|   4454165|   4068058|\n",
      "|   4432260|   4011192|\n",
      "+----------+----------+\n",
      "only showing top 20 rows\n",
      "\n"
     ]
    }
   ],
   "source": [
    "#Join Census 2010 and 2000 on 'age' column. Select 'total' column.\n",
    "\n",
    "query = 'SELECT Census_2010.total AS 2010_Total, Census_2000.total AS 2000_Total FROM Census_2010 INNER JOIN Census_2000 ON Census_2010.age = Census_2000.age'\n",
    "queryResult = sqlContext.sql(query)\n",
    "queryResult.show()"
   ]
  },
  {
   "cell_type": "code",
   "execution_count": 12,
   "metadata": {
    "collapsed": false
   },
   "outputs": [
    {
     "name": "stdout",
     "output_type": "stream",
     "text": [
      "+-----------------+-----------------+-----------------+\n",
      "|         2010_SUM|         2000_SUM|         1990_SUM|\n",
      "+-----------------+-----------------+-----------------+\n",
      "|3.185232830316E12|2.903147423395E12|2.596222306047E12|\n",
      "+-----------------+-----------------+-----------------+\n",
      "\n"
     ]
    }
   ],
   "source": [
    "#Join all tables and sum population total for each year\n",
    "query = 'SELECT SUM(Census_2010.total) AS 2010_SUM,\\\n",
    "    SUM(Census_2000.total) AS 2000_SUM,\\\n",
    "    SUM(Census_1990.total) AS 1990_SUM\\\n",
    "    FROM Census_2010 JOIN Census_2000 JOIN Census_1990'\n",
    "queryResult = sqlContext.sql(query)\n",
    "queryResult.show()"
   ]
  },
  {
   "cell_type": "code",
   "execution_count": null,
   "metadata": {
    "collapsed": false
   },
   "outputs": [],
   "source": []
  },
  {
   "cell_type": "code",
   "execution_count": 13,
   "metadata": {
    "collapsed": false
   },
   "outputs": [],
   "source": [
    "sc.stop()"
   ]
  },
  {
   "cell_type": "code",
   "execution_count": null,
   "metadata": {
    "collapsed": true
   },
   "outputs": [],
   "source": []
  },
  {
   "cell_type": "code",
   "execution_count": null,
   "metadata": {
    "collapsed": false
   },
   "outputs": [],
   "source": []
  },
  {
   "cell_type": "code",
   "execution_count": null,
   "metadata": {
    "collapsed": false
   },
   "outputs": [],
   "source": [
    "\n",
    "        "
   ]
  },
  {
   "cell_type": "code",
   "execution_count": 31,
   "metadata": {
    "collapsed": false
   },
   "outputs": [],
   "source": [
    "\n"
   ]
  },
  {
   "cell_type": "code",
   "execution_count": null,
   "metadata": {
    "collapsed": true
   },
   "outputs": [],
   "source": []
  },
  {
   "cell_type": "code",
   "execution_count": null,
   "metadata": {
    "collapsed": false
   },
   "outputs": [],
   "source": []
  },
  {
   "cell_type": "code",
   "execution_count": null,
   "metadata": {
    "collapsed": false
   },
   "outputs": [],
   "source": []
  },
  {
   "cell_type": "code",
   "execution_count": null,
   "metadata": {
    "collapsed": false
   },
   "outputs": [],
   "source": []
  },
  {
   "cell_type": "code",
   "execution_count": 87,
   "metadata": {
    "collapsed": false
   },
   "outputs": [],
   "source": [
    "\n"
   ]
  },
  {
   "cell_type": "code",
   "execution_count": null,
   "metadata": {
    "collapsed": false
   },
   "outputs": [],
   "source": []
  },
  {
   "cell_type": "code",
   "execution_count": 55,
   "metadata": {
    "collapsed": false
   },
   "outputs": [],
   "source": []
  },
  {
   "cell_type": "code",
   "execution_count": null,
   "metadata": {
    "collapsed": true
   },
   "outputs": [],
   "source": []
  }
 ],
 "metadata": {
  "anaconda-cloud": {},
  "kernelspec": {
   "display_name": "Python [conda root]",
   "language": "python",
   "name": "conda-root-py"
  },
  "language_info": {
   "codemirror_mode": {
    "name": "ipython",
    "version": 3
   },
   "file_extension": ".py",
   "mimetype": "text/x-python",
   "name": "python",
   "nbconvert_exporter": "python",
   "pygments_lexer": "ipython3",
   "version": "3.5.2"
  }
 },
 "nbformat": 4,
 "nbformat_minor": 1
}
