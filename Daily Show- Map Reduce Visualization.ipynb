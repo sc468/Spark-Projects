{
 "cells": [
  {
   "cell_type": "code",
   "execution_count": 77,
   "metadata": {
    "collapsed": false
   },
   "outputs": [],
   "source": [
    "# Find path to PySpark.\n",
    "import findspark\n",
    "findspark.init('/Users/Steve/spark-2.0.2-bin-hadoop2.6')\n",
    "\n",
    "# Import PySpark and initialize SparkContext object.\n",
    "import pyspark\n",
    "sc = pyspark.SparkContext()"
   ]
  },
  {
   "cell_type": "code",
   "execution_count": 78,
   "metadata": {
    "collapsed": false
   },
   "outputs": [
    {
     "data": {
      "text/plain": [
       "['YEAR\\tGoogleKnowlege_Occupation\\tShow\\tGroup\\tRaw_Guest_List',\n",
       " '1999\\tactor\\t1/11/1999\\tActing\\tMichael J. Fox',\n",
       " '1999\\tComedian\\t1/12/1999\\tComedy\\tSandra Bernhard',\n",
       " '1999\\ttelevision actress\\t1/13/99\\tActing\\tTracey Ullman',\n",
       " '1999\\tfilm actress\\t1/14/99\\tActing\\tGillian Anderson']"
      ]
     },
     "execution_count": 78,
     "metadata": {},
     "output_type": "execute_result"
    }
   ],
   "source": [
    "\n",
    "#Print first 5 elements of RDD\n",
    "raw_data = sc.textFile(\"daily_show.tsv\")\n",
    "raw_data.take(5)\n"
   ]
  },
  {
   "cell_type": "markdown",
   "metadata": {
    "collapsed": true
   },
   "source": []
  },
  {
   "cell_type": "code",
   "execution_count": 79,
   "metadata": {
    "collapsed": false
   },
   "outputs": [
    {
     "data": {
      "text/plain": [
       "[['YEAR', 'GoogleKnowlege_Occupation', 'Show', 'Group', 'Raw_Guest_List'],\n",
       " ['1999', 'actor', '1/11/1999', 'Acting', 'Michael J. Fox'],\n",
       " ['1999', 'Comedian', '1/12/1999', 'Comedy', 'Sandra Bernhard'],\n",
       " ['1999', 'television actress', '1/13/99', 'Acting', 'Tracey Ullman'],\n",
       " ['1999', 'film actress', '1/14/99', 'Acting', 'Gillian Anderson']]"
      ]
     },
     "execution_count": 79,
     "metadata": {},
     "output_type": "execute_result"
    }
   ],
   "source": [
    "#From the output above, we see the data is delimited by \"\\t\". Let's apply a map function to splice each entry.\n",
    "splice_data = raw_data.map(lambda splice : splice.split('\\t'))\n",
    "splice_data.take(5)"
   ]
  },
  {
   "cell_type": "code",
   "execution_count": 80,
   "metadata": {
    "collapsed": false
   },
   "outputs": [
    {
     "data": {
      "text/plain": [
       "[('YEAR', 1), ('1999', 1), ('1999', 1), ('1999', 1), ('1999', 1)]"
      ]
     },
     "execution_count": 80,
     "metadata": {},
     "output_type": "execute_result"
    }
   ],
   "source": [
    "#Goal: Tally number of guests in each year\n",
    "#Create tuple consisting of (year, 1) for each guest\n",
    "guest_counter = splice_data.map(lambda row: (row[0] ,1))\n",
    "guest_counter.take(5)"
   ]
  },
  {
   "cell_type": "code",
   "execution_count": 81,
   "metadata": {
    "collapsed": false
   },
   "outputs": [
    {
     "data": {
      "text/plain": [
       "[('YEAR', 1),\n",
       " ('2012', 164),\n",
       " ('2013', 166),\n",
       " ('2004', 164),\n",
       " ('2011', 163),\n",
       " ('2014', 163),\n",
       " ('2002', 159),\n",
       " ('2007', 141),\n",
       " ('2015', 100),\n",
       " ('2003', 166),\n",
       " ('2010', 165),\n",
       " ('2001', 157),\n",
       " ('2000', 169),\n",
       " ('2008', 164),\n",
       " ('2005', 162),\n",
       " ('2009', 163),\n",
       " ('1999', 166),\n",
       " ('2006', 161)]"
      ]
     },
     "execution_count": 81,
     "metadata": {},
     "output_type": "execute_result"
    }
   ],
   "source": [
    "#Reduce entries by summing the second entry in the tuple for each year\n",
    "guest_counter_sum = guest_counter.reduceByKey(lambda x, y: x+y)\n",
    "guest_counter_sum.collect()"
   ]
  },
  {
   "cell_type": "code",
   "execution_count": 82,
   "metadata": {
    "collapsed": false
   },
   "outputs": [
    {
     "data": {
      "text/plain": [
       "[('2012', 164),\n",
       " ('2013', 166),\n",
       " ('2004', 164),\n",
       " ('2011', 163),\n",
       " ('2014', 163),\n",
       " ('2002', 159),\n",
       " ('2007', 141),\n",
       " ('2015', 100),\n",
       " ('2003', 166),\n",
       " ('2010', 165),\n",
       " ('2001', 157),\n",
       " ('2000', 169),\n",
       " ('2008', 164),\n",
       " ('2005', 162),\n",
       " ('2009', 163),\n",
       " ('1999', 166),\n",
       " ('2006', 161)]"
      ]
     },
     "execution_count": 82,
     "metadata": {},
     "output_type": "execute_result"
    }
   ],
   "source": [
    "#Goal: Use filter remove title row ('YEAR', 1) from RDD\n",
    "\n",
    "def filter_year(row):\n",
    "    if row[0] == 'YEAR':\n",
    "        return False\n",
    "    else:\n",
    "        return True\n",
    "    \n",
    "guest_counter_sum = guest_counter_sum.filter( lambda row: filter_year(row))\n",
    "\n",
    "guest_counter_sum.collect()"
   ]
  },
  {
   "cell_type": "code",
   "execution_count": 83,
   "metadata": {
    "collapsed": true
   },
   "outputs": [],
   "source": [
    "\n",
    "\n"
   ]
  },
  {
   "cell_type": "code",
   "execution_count": 84,
   "metadata": {
    "collapsed": false
   },
   "outputs": [
    {
     "data": {
      "image/png": "[encoded data removed]",
      "text/plain": [
       "<matplotlib.figure.Figure at 0x166d3eddf28>"
      ]
     },
     "metadata": {},
     "output_type": "display_data"
    }
   ],
   "source": [
    "#Plot bar graph of guest number over years\n",
    "guest_year_bar = guest_counter_sum.collect()\n",
    "\n",
    "import matplotlib.pyplot as plt\n",
    "years =[int(x[0]) for x in guest_year_bar]\n",
    "guests = [x[1] for x in guest_year_bar]\n",
    "fig = plt.figure()\n",
    "sub = fig.add_subplot(111)\n",
    "sub.bar(left=years, height=guests, align = 'center')\n",
    "#sub.set_xaxis([min(years),max(years)])\n",
    "sub.set_xlabel('Year')\n",
    "sub.set_ylabel('Number of Guests')\n",
    "plt.show()"
   ]
  },
  {
   "cell_type": "code",
   "execution_count": 85,
   "metadata": {
    "collapsed": false
   },
   "outputs": [],
   "source": [
    "#Combine filter/map/reduce functions\n",
    "#Find guests with non-empty professions, lower case entries, tally number, and take 10 largest tallies\n",
    "\n",
    "profession_tally = splice_data.filter(lambda row: row[1] != '')\\\n",
    "    .map(lambda row: (row[1].lower(), 1))\\\n",
    "    .reduceByKey(lambda x, y: x+y)\\\n",
    "    .takeOrdered(10, key= lambda x : -x[1] )"
   ]
  },
  {
   "cell_type": "code",
   "execution_count": 86,
   "metadata": {
    "collapsed": false
   },
   "outputs": [
    {
     "data": {
      "image/png": "[encoded data removed]",
      "text/plain": [
       "<matplotlib.figure.Figure at 0x166d24142b0>"
      ]
     },
     "metadata": {},
     "output_type": "display_data"
    }
   ],
   "source": [
    "#Plot bar graph of 10 most popular professions\n",
    "\n",
    "professions =[x[0] for x in profession_tally]\n",
    "guest_count = [x[1] for x in profession_tally]\n",
    "fig2 = plt.figure()\n",
    "sub = fig2.add_subplot(111)\n",
    "sub.bar(left=range(1,len(guest_count)+1), height=guest_count, align = 'center')\n",
    "#sub.set_xaxis([min(years),max(years)])\n",
    "sub.set_xlabel('Profession')\n",
    "sub.set_ylabel('Number of Guests')\n",
    "sub.set_xticks(range(1,len(guest_count)+1))\n",
    "sub.set_xticklabels(professions, rotation = 90)\n",
    "sub.set_xlim(right = len(guest_count)+1)\n",
    "sub.set_title('Most Frequent Professions to Visit Daily Show')\n",
    "plt.show()"
   ]
  },
  {
   "cell_type": "code",
   "execution_count": 87,
   "metadata": {
    "collapsed": false
   },
   "outputs": [],
   "source": [
    "sc.stop()\n"
   ]
  },
  {
   "cell_type": "code",
   "execution_count": null,
   "metadata": {
    "collapsed": false
   },
   "outputs": [],
   "source": []
  },
  {
   "cell_type": "code",
   "execution_count": 55,
   "metadata": {
    "collapsed": false
   },
   "outputs": [],
   "source": []
  },
  {
   "cell_type": "code",
   "execution_count": null,
   "metadata": {
    "collapsed": true
   },
   "outputs": [],
   "source": []
  }
 ],
 "metadata": {
  "anaconda-cloud": {},
  "kernelspec": {
   "display_name": "Python [conda root]",
   "language": "python",
   "name": "conda-root-py"
  },
  "language_info": {
   "codemirror_mode": {
    "name": "ipython",
    "version": 3
   },
   "file_extension": ".py",
   "mimetype": "text/x-python",
   "name": "python",
   "nbconvert_exporter": "python",
   "pygments_lexer": "ipython3",
   "version": "3.5.2"
  }
 },
 "nbformat": 4,
 "nbformat_minor": 1
}
