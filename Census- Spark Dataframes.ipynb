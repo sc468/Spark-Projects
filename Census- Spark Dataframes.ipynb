{
 "cells": [
  {
   "cell_type": "code",
   "execution_count": 5,
   "metadata": {
    "collapsed": false
   },
   "outputs": [],
   "source": [
    "# Find path to PySpark.\n",
    "import findspark\n",
    "findspark.init('/Users/Steve/spark-2.0.2-bin-hadoop2.6')\n",
    "\n",
    "# Import PySpark and initialize SparkContext object.\n",
    "import pyspark\n",
    "from pyspark.sql import SQLContext\n",
    "sc = pyspark.SparkContext()\n",
    "\n",
    "#Pass SparkContext object to SQL Context\n",
    "sqlContext = SQLContext(sc)"
   ]
  },
  {
   "cell_type": "code",
   "execution_count": 14,
   "metadata": {
    "collapsed": false
   },
   "outputs": [
    {
     "name": "stdout",
     "output_type": "stream",
     "text": [
      "{\"age\":\"0\",\"females\":\"1994141\",\"males\":\"2085528\",\"total\":\"4079669\",\"year\":\"2010\"}\n",
      "\n",
      "{\"age\":\"1\",\"females\":\"1997991\",\"males\":\"2087350\",\"total\":\"4085341\",\"year\":\"2010\"}\n",
      "\n",
      "{\"age\":\"2\",\"females\":\"2000746\",\"males\":\"2088549\",\"total\":\"4089295\",\"year\":\"2010\"}\n",
      "\n",
      "{\"age\":\"3\",\"females\":\"2002756\",\"males\":\"2089465\",\"total\":\"4092221\",\"year\":\"2010\"}\n",
      "\n",
      "{\"age\":\"4\",\"females\":\"2004366\",\"males\":\"2090436\",\"total\":\"4094802\",\"year\":\"2010\"}\n",
      "\n",
      "{\"age\":\"5\",\"females\":\"2005925\",\"males\":\"2091803\",\"total\":\"4097728\",\"year\":\"2010\"}\n",
      "\n",
      "{\"age\":\"6\",\"females\":\"2007781\",\"males\":\"2093905\",\"total\":\"4101686\",\"year\":\"2010\"}\n",
      "\n",
      "{\"age\":\"7\",\"females\":\"2010281\",\"males\":\"2097080\",\"total\":\"4107361\",\"year\":\"2010\"}\n",
      "\n",
      "{\"age\":\"8\",\"females\":\"2013771\",\"males\":\"2101670\",\"total\":\"4115441\",\"year\":\"2010\"}\n",
      "\n",
      "{\"age\":\"9\",\"females\":\"2018603\",\"males\":\"2108014\",\"total\":\"4126617\",\"year\":\"2010\"}\n",
      "\n"
     ]
    }
   ],
   "source": [
    "#Preview JSON file\n",
    "with open ('data\\Census_2010.json') as fileObject:\n",
    "    for i in range(0,10):\n",
    "        print (fileObject.readline())"
   ]
  },
  {
   "cell_type": "code",
   "execution_count": 9,
   "metadata": {
    "collapsed": false
   },
   "outputs": [
    {
     "name": "stdout",
     "output_type": "stream",
     "text": [
      "CensusDF Datatype: <class 'pyspark.sql.dataframe.DataFrame'>\n"
     ]
    }
   ],
   "source": [
    "#Read data as dataframe\n",
    "CensusDF = sqlContext.read.json('data\\Census_2010.json')\n",
    "\n",
    "#Check CensusDF type\n",
    "print('CensusDF Datatype:', type(CensusDF))"
   ]
  },
  {
   "cell_type": "markdown",
   "metadata": {
    "collapsed": true
   },
   "source": []
  },
  {
   "cell_type": "code",
   "execution_count": 10,
   "metadata": {
    "collapsed": false
   },
   "outputs": [
    {
     "name": "stdout",
     "output_type": "stream",
     "text": [
      "root\n",
      " |-- age: string (nullable = true)\n",
      " |-- females: string (nullable = true)\n",
      " |-- males: string (nullable = true)\n",
      " |-- total: string (nullable = true)\n",
      " |-- year: string (nullable = true)\n",
      "\n"
     ]
    }
   ],
   "source": [
    "#Print inferred schema\n",
    "CensusDF.printSchema()"
   ]
  },
  {
   "cell_type": "code",
   "execution_count": 11,
   "metadata": {
    "collapsed": false
   },
   "outputs": [
    {
     "name": "stdout",
     "output_type": "stream",
     "text": [
      "+---+-------+-------+-------+----+\n",
      "|age|females|  males|  total|year|\n",
      "+---+-------+-------+-------+----+\n",
      "|  0|1994141|2085528|4079669|2010|\n",
      "|  1|1997991|2087350|4085341|2010|\n",
      "|  2|2000746|2088549|4089295|2010|\n",
      "|  3|2002756|2089465|4092221|2010|\n",
      "|  4|2004366|2090436|4094802|2010|\n",
      "+---+-------+-------+-------+----+\n",
      "only showing top 5 rows\n",
      "\n"
     ]
    }
   ],
   "source": [
    "#Print first 5 lines of dataframe\n",
    "CensusDF.show(5)"
   ]
  },
  {
   "cell_type": "code",
   "execution_count": 18,
   "metadata": {
    "collapsed": false,
    "scrolled": true
   },
   "outputs": [
    {
     "name": "stdout",
     "output_type": "stream",
     "text": [
      "Row  0  Age: 0\n",
      "Row  1  Age: 1\n",
      "Row  2  Age: 2\n",
      "Row  3  Age: 3\n",
      "Row  4  Age: 4\n"
     ]
    }
   ],
   "source": [
    "#Obtain first five rows as row objects\n",
    "firstFiveRows = CensusDF.head(5)\n",
    "\n",
    "#Print ages in first 5 rows\n",
    "for i in range (0,5):\n",
    "    print ('Row ', i, ' Age:',firstFiveRows[i].age)"
   ]
  },
  {
   "cell_type": "code",
   "execution_count": 19,
   "metadata": {
    "collapsed": false
   },
   "outputs": [
    {
     "name": "stdout",
     "output_type": "stream",
     "text": [
      "+---+-------+-------+\n",
      "|age|  males|females|\n",
      "+---+-------+-------+\n",
      "|  0|2085528|1994141|\n",
      "|  1|2087350|1997991|\n",
      "|  2|2088549|2000746|\n",
      "|  3|2089465|2002756|\n",
      "|  4|2090436|2004366|\n",
      "+---+-------+-------+\n",
      "only showing top 5 rows\n",
      "\n"
     ]
    }
   ],
   "source": [
    "#Select columns age, males, and females\n",
    "ageMalesFemalesCols = CensusDF.select('age', 'males', 'females')\n",
    "ageMalesFemalesCols.show(5)"
   ]
  },
  {
   "cell_type": "code",
   "execution_count": 21,
   "metadata": {
    "collapsed": false
   },
   "outputs": [
    {
     "name": "stdout",
     "output_type": "stream",
     "text": [
      "+---+-------+-------+-------+----+\n",
      "|age|females|  males|  total|year|\n",
      "+---+-------+-------+-------+----+\n",
      "| 51|2324721|2247349|4572070|2010|\n",
      "| 52|2306106|2223261|4529367|2010|\n",
      "| 53|2270038|2179406|4449444|2010|\n",
      "| 54|2221350|2121536|4342886|2010|\n",
      "| 55|2167706|2059204|4226910|2010|\n",
      "+---+-------+-------+-------+----+\n",
      "only showing top 5 rows\n",
      "\n"
     ]
    }
   ],
   "source": [
    "#Select rows with age >50\n",
    "ageFifty = CensusDF[CensusDF['age']>50]\n",
    "ageFifty.show(5)"
   ]
  },
  {
   "cell_type": "code",
   "execution_count": 26,
   "metadata": {
    "collapsed": false
   },
   "outputs": [
    {
     "name": "stdout",
     "output_type": "stream",
     "text": [
      "+---+-------+-------+-------+----+\n",
      "|age|females|  males|  total|year|\n",
      "+---+-------+-------+-------+----+\n",
      "| 34|2025969|2020204|4046173|2010|\n",
      "| 35|2029981|2018080|4048061|2010|\n",
      "| 36|2036269|2018137|4054406|2010|\n",
      "| 37|2045241|2022787|4068028|2010|\n",
      "| 38|2056401|2032469|4088870|2010|\n",
      "| 39|2070132|2046398|4116530|2010|\n",
      "| 40|2085229|2061474|4146703|2010|\n",
      "| 41|2099423|2076069|4175492|2010|\n",
      "| 42|2123189|2098014|4221203|2010|\n",
      "| 43|2160806|2130169|4290975|2010|\n",
      "| 44|2205936|2167507|4373443|2010|\n",
      "| 45|2247630|2201679|4449309|2010|\n",
      "| 46|2287688|2233787|4521475|2010|\n",
      "| 47|2317309|2256546|4573855|2010|\n",
      "| 48|2330869|2265290|4596159|2010|\n",
      "| 49|2331572|2262342|4593914|2010|\n",
      "| 50|2329647|2256294|4585941|2010|\n",
      "| 51|2324721|2247349|4572070|2010|\n",
      "| 52|2306106|2223261|4529367|2010|\n",
      "| 53|2270038|2179406|4449444|2010|\n",
      "+---+-------+-------+-------+----+\n",
      "only showing top 20 rows\n",
      "\n"
     ]
    }
   ],
   "source": [
    "#Select rows where # females > # males\n",
    "femaleMoreMaleLess = CensusDF[CensusDF['females']>CensusDF['males']]\n",
    "femaleMoreMaleLess.show()"
   ]
  },
  {
   "cell_type": "code",
   "execution_count": 30,
   "metadata": {
    "collapsed": false
   },
   "outputs": [
    {
     "data": {
      "text/plain": [
       "<matplotlib.axes._subplots.AxesSubplot at 0x1e7d1dde898>"
      ]
     },
     "execution_count": 30,
     "metadata": {},
     "output_type": "execute_result"
    },
    {
     "data": {
      "image/png": "[encoded data removed]",
      "text/plain": [
       "<matplotlib.figure.Figure at 0x1e7d1de2ef0>"
      ]
     },
     "metadata": {},
     "output_type": "display_data"
    }
   ],
   "source": [
    "#Convert Spark Dataframe to Pandas Dataframe\n",
    "CensusPandas = CensusDF.toPandas()\n",
    "\n",
    "#Use Pandas dataframe to display a histogram of column 'total'\n",
    "%matplotlib inline\n",
    "CensusPandas['total'] = CensusPandas['total'].astype(float)\n",
    "CensusPandas['total'].hist()"
   ]
  },
  {
   "cell_type": "code",
   "execution_count": 31,
   "metadata": {
    "collapsed": false
   },
   "outputs": [],
   "source": [
    "sc.stop()"
   ]
  },
  {
   "cell_type": "code",
   "execution_count": null,
   "metadata": {
    "collapsed": true
   },
   "outputs": [],
   "source": []
  },
  {
   "cell_type": "code",
   "execution_count": null,
   "metadata": {
    "collapsed": false
   },
   "outputs": [],
   "source": []
  },
  {
   "cell_type": "code",
   "execution_count": null,
   "metadata": {
    "collapsed": false
   },
   "outputs": [],
   "source": [
    "\n",
    "        "
   ]
  },
  {
   "cell_type": "code",
   "execution_count": 31,
   "metadata": {
    "collapsed": false
   },
   "outputs": [],
   "source": [
    "\n"
   ]
  },
  {
   "cell_type": "code",
   "execution_count": null,
   "metadata": {
    "collapsed": true
   },
   "outputs": [],
   "source": []
  },
  {
   "cell_type": "code",
   "execution_count": null,
   "metadata": {
    "collapsed": false
   },
   "outputs": [],
   "source": []
  },
  {
   "cell_type": "code",
   "execution_count": null,
   "metadata": {
    "collapsed": false
   },
   "outputs": [],
   "source": []
  },
  {
   "cell_type": "code",
   "execution_count": null,
   "metadata": {
    "collapsed": false
   },
   "outputs": [],
   "source": []
  },
  {
   "cell_type": "code",
   "execution_count": 87,
   "metadata": {
    "collapsed": false
   },
   "outputs": [],
   "source": [
    "\n"
   ]
  },
  {
   "cell_type": "code",
   "execution_count": null,
   "metadata": {
    "collapsed": false
   },
   "outputs": [],
   "source": []
  },
  {
   "cell_type": "code",
   "execution_count": 55,
   "metadata": {
    "collapsed": false
   },
   "outputs": [],
   "source": []
  },
  {
   "cell_type": "code",
   "execution_count": null,
   "metadata": {
    "collapsed": true
   },
   "outputs": [],
   "source": []
  }
 ],
 "metadata": {
  "anaconda-cloud": {},
  "kernelspec": {
   "display_name": "Python [conda root]",
   "language": "python",
   "name": "conda-root-py"
  },
  "language_info": {
   "codemirror_mode": {
    "name": "ipython",
    "version": 3
   },
   "file_extension": ".py",
   "mimetype": "text/x-python",
   "name": "python",
   "nbconvert_exporter": "python",
   "pygments_lexer": "ipython3",
   "version": "3.5.2"
  }
 },
 "nbformat": 4,
 "nbformat_minor": 1
}
