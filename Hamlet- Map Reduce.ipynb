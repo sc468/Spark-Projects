{
 "cells": [
  {
   "cell_type": "code",
   "execution_count": 1,
   "metadata": {
    "collapsed": false
   },
   "outputs": [],
   "source": [
    "# Find path to PySpark.\n",
    "import findspark\n",
    "findspark.init('/Users/Steve/spark-2.0.2-bin-hadoop2.6')\n",
    "\n",
    "# Import PySpark and initialize SparkContext object.\n",
    "import pyspark\n",
    "sc = pyspark.SparkContext()"
   ]
  },
  {
   "cell_type": "code",
   "execution_count": 2,
   "metadata": {
    "collapsed": false
   },
   "outputs": [
    {
     "data": {
      "text/plain": [
       "['\\tHAMLET', '', '', '\\tDRAMATIS PERSONAE', '']"
      ]
     },
     "execution_count": 2,
     "metadata": {},
     "output_type": "execute_result"
    }
   ],
   "source": [
    "\n",
    "#Print first 5 elements of RDD\n",
    "raw_data = sc.textFile(\"hamlet.txt\")\n",
    "raw_data.take(5)\n"
   ]
  },
  {
   "cell_type": "markdown",
   "metadata": {
    "collapsed": true
   },
   "source": []
  },
  {
   "cell_type": "code",
   "execution_count": 3,
   "metadata": {
    "collapsed": false
   },
   "outputs": [
    {
     "data": {
      "text/plain": [
       "[['', 'HAMLET'], [''], [''], ['', 'DRAMATIS PERSONAE'], ['']]"
      ]
     },
     "execution_count": 3,
     "metadata": {},
     "output_type": "execute_result"
    }
   ],
   "source": [
    "#From the output above, we see the data is delimited by \"\\t\". Let's apply a map function to splice each entry.\n",
    "\n",
    "splice_data = raw_data.map(lambda splice : splice.split('\\t'))\n",
    "splice_data.take(5)"
   ]
  },
  {
   "cell_type": "code",
   "execution_count": 4,
   "metadata": {
    "collapsed": false
   },
   "outputs": [],
   "source": [
    "#Goal: Find lines where Hamlet speaks\n",
    "\n",
    "def hamlet_speaks_filter(row):\n",
    "    id = row[0]\n",
    "    hamlet_speaks = False\n",
    "    \n",
    "    if 'HAMLET' in row[0]:\n",
    "        hamlet_speaks = True\n",
    "        \n",
    "    if hamlet_speaks:\n",
    "        yield id, 'Hamlet Speaks!' "
   ]
  },
  {
   "cell_type": "code",
   "execution_count": 5,
   "metadata": {
    "collapsed": false
   },
   "outputs": [
    {
     "data": {
      "text/plain": [
       "[('HAMLET', 'Hamlet Speaks!'),\n",
       " ('HAMLET', 'Hamlet Speaks!'),\n",
       " ('HAMLET', 'Hamlet Speaks!'),\n",
       " ('HAMLET', 'Hamlet Speaks!'),\n",
       " ('HAMLET', 'Hamlet Speaks!'),\n",
       " ('HAMLET', 'Hamlet Speaks!'),\n",
       " ('HAMLET', 'Hamlet Speaks!'),\n",
       " ('HAMLET', 'Hamlet Speaks!'),\n",
       " ('HAMLET', 'Hamlet Speaks!'),\n",
       " ('HAMLET', 'Hamlet Speaks!')]"
      ]
     },
     "execution_count": 5,
     "metadata": {},
     "output_type": "execute_result"
    }
   ],
   "source": [
    "hamlet_lines = splice_data.flatMap(lambda x: hamlet_speaks_filter(x))\n",
    "hamlet_lines.take(10)"
   ]
  },
  {
   "cell_type": "code",
   "execution_count": 7,
   "metadata": {
    "collapsed": false
   },
   "outputs": [
    {
     "data": {
      "text/plain": [
       "[['HAMLET', 'son to the late, and nephew to the present king.'],\n",
       " ['HAMLET', '[Aside]  A little more than kin, and less than kind.'],\n",
       " ['HAMLET', \"Not so, my lord; I am too much i' the sun.\"],\n",
       " ['HAMLET', 'Ay, madam, it is common.'],\n",
       " ['HAMLET', \"Seems, madam! nay it is; I know not 'seems.'\"]]"
      ]
     },
     "execution_count": 7,
     "metadata": {},
     "output_type": "execute_result"
    }
   ],
   "source": [
    "#Goal: Use filter to return lines of Hamlet dialogue\n",
    "\n",
    "def hamlet_speaks_filter2(x):\n",
    "    if 'HAMLET' in x[0]:\n",
    "        return  True\n",
    "    else:\n",
    "        return False\n",
    "\n",
    "hamlet_lines2 = splice_data.filter(lambda row: hamlet_speaks_filter2(row))\n",
    "hamlet_lines2.take(5)"
   ]
  },
  {
   "cell_type": "code",
   "execution_count": 16,
   "metadata": {
    "collapsed": false,
    "scrolled": true
   },
   "outputs": [
    {
     "data": {
      "text/plain": [
       "[['HAMLET', '[Aside]  A little more than kin, and less than kind.'],\n",
       " ['HAMLET', \"Not so, my lord; I am too much i' the sun.\"],\n",
       " ['HAMLET', 'Ay, madam, it is common.'],\n",
       " ['HAMLET', \"Seems, madam! nay it is; I know not 'seems.'\"],\n",
       " ['HAMLET', 'I shall in all my best obey you, madam.']]"
      ]
     },
     "execution_count": 16,
     "metadata": {},
     "output_type": "execute_result"
    }
   ],
   "source": [
    "#Remove the first line, which is a header\n",
    "\n",
    "hamlet_first_line = hamlet_lines2.take(1)\n",
    "hamlet_lines3 = hamlet_lines2.filter(lambda line: line[1] != hamlet_first_line[0][1])\n",
    "hamlet_lines3.take(5)"
   ]
  },
  {
   "cell_type": "code",
   "execution_count": 17,
   "metadata": {
    "collapsed": false
   },
   "outputs": [
    {
     "name": "stdout",
     "output_type": "stream",
     "text": [
      "Number of Hamlet Lines =  265\n",
      "Hamlet's 101'st line is:  [Aside]  Nay, then, I have an eye of you.--If you\n"
     ]
    }
   ],
   "source": [
    "#Find number of lines where Hamlet Spoke\n",
    "num_hamlet_lines = hamlet_lines3.count()\n",
    "print ('Number of Hamlet Lines = ', num_hamlet_lines)\n",
    "hamlet_dialogue = hamlet_lines3.collect()\n",
    "hamlet_line_101 = hamlet_dialogue[100][1]\n",
    "print ('Hamlet\\'s 101\\'st line is: ', hamlet_line_101)\n",
    "        "
   ]
  },
  {
   "cell_type": "code",
   "execution_count": 18,
   "metadata": {
    "collapsed": false
   },
   "outputs": [],
   "source": [
    "sc.stop()\n"
   ]
  },
  {
   "cell_type": "code",
   "execution_count": null,
   "metadata": {
    "collapsed": false
   },
   "outputs": [],
   "source": []
  },
  {
   "cell_type": "code",
   "execution_count": null,
   "metadata": {
    "collapsed": false
   },
   "outputs": [],
   "source": []
  },
  {
   "cell_type": "code",
   "execution_count": null,
   "metadata": {
    "collapsed": false
   },
   "outputs": [],
   "source": []
  },
  {
   "cell_type": "code",
   "execution_count": null,
   "metadata": {
    "collapsed": false
   },
   "outputs": [],
   "source": []
  },
  {
   "cell_type": "code",
   "execution_count": 87,
   "metadata": {
    "collapsed": false
   },
   "outputs": [],
   "source": [
    "\n"
   ]
  },
  {
   "cell_type": "code",
   "execution_count": null,
   "metadata": {
    "collapsed": false
   },
   "outputs": [],
   "source": []
  },
  {
   "cell_type": "code",
   "execution_count": 55,
   "metadata": {
    "collapsed": false
   },
   "outputs": [],
   "source": []
  },
  {
   "cell_type": "code",
   "execution_count": null,
   "metadata": {
    "collapsed": true
   },
   "outputs": [],
   "source": []
  }
 ],
 "metadata": {
  "anaconda-cloud": {},
  "kernelspec": {
   "display_name": "Python [conda root]",
   "language": "python",
   "name": "conda-root-py"
  },
  "language_info": {
   "codemirror_mode": {
    "name": "ipython",
    "version": 3
   },
   "file_extension": ".py",
   "mimetype": "text/x-python",
   "name": "python",
   "nbconvert_exporter": "python",
   "pygments_lexer": "ipython3",
   "version": "3.5.2"
  }
 },
 "nbformat": 4,
 "nbformat_minor": 1
}
