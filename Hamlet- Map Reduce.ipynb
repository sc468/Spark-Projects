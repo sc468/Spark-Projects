{
 "cells": [
  {
   "cell_type": "code",
   "execution_count": 1,
   "metadata": {
    "collapsed": false
   },
   "outputs": [],
   "source": [
    "# Find path to PySpark.\n",
    "import findspark\n",
    "findspark.init('/Users/Steve/spark-2.0.2-bin-hadoop2.6')\n",
    "\n",
    "# Import PySpark and initialize SparkContext object.\n",
    "import pyspark\n",
    "sc = pyspark.SparkContext()"
   ]
  },
  {
   "cell_type": "code",
   "execution_count": 2,
   "metadata": {
    "collapsed": false
   },
   "outputs": [
    {
     "data": {
      "text/plain": [
       "['\\tHAMLET', '', '', '\\tDRAMATIS PERSONAE', '']"
      ]
     },
     "execution_count": 2,
     "metadata": {},
     "output_type": "execute_result"
    }
   ],
   "source": [
    "\n",
    "#Print first 5 elements of RDD\n",
    "raw_data = sc.textFile(\"hamlet.txt\")\n",
    "raw_data.take(5)\n"
   ]
  },
  {
   "cell_type": "markdown",
   "metadata": {
    "collapsed": true
   },
   "source": []
  },
  {
   "cell_type": "code",
   "execution_count": 3,
   "metadata": {
    "collapsed": false
   },
   "outputs": [
    {
     "data": {
      "text/plain": [
       "[['', 'HAMLET'], [''], [''], ['', 'DRAMATIS PERSONAE'], ['']]"
      ]
     },
     "execution_count": 3,
     "metadata": {},
     "output_type": "execute_result"
    }
   ],
   "source": [
    "#From the output above, we see the data is delimited by \"\\t\". Let's apply a map function to splice each entry.\n",
    "\n",
    "splice_data = raw_data.map(lambda splice : splice.split('\\t'))\n",
    "splice_data.take(5)"
   ]
  },
  {
   "cell_type": "code",
   "execution_count": 4,
   "metadata": {
    "collapsed": false
   },
   "outputs": [],
   "source": [
    "#Goal: Find lines where Hamlet speaks\n",
    "\n",
    "def hamlet_speaks_filter(row):\n",
    "    id = row[0]\n",
    "    hamlet_speaks = False\n",
    "    \n",
    "    if 'HAMLET' in row[0]:\n",
    "        hamlet_speaks = True\n",
    "        \n",
    "    if hamlet_speaks:\n",
    "        yield id, 'Hamlet Speaks!' "
   ]
  },
  {
   "cell_type": "code",
   "execution_count": 5,
   "metadata": {
    "collapsed": false
   },
   "outputs": [
    {
     "data": {
      "text/plain": [
       "[('HAMLET', 'Hamlet Speaks!'),\n",
       " ('HAMLET', 'Hamlet Speaks!'),\n",
       " ('HAMLET', 'Hamlet Speaks!'),\n",
       " ('HAMLET', 'Hamlet Speaks!'),\n",
       " ('HAMLET', 'Hamlet Speaks!'),\n",
       " ('HAMLET', 'Hamlet Speaks!'),\n",
       " ('HAMLET', 'Hamlet Speaks!'),\n",
       " ('HAMLET', 'Hamlet Speaks!'),\n",
       " ('HAMLET', 'Hamlet Speaks!'),\n",
       " ('HAMLET', 'Hamlet Speaks!')]"
      ]
     },
     "execution_count": 5,
     "metadata": {},
     "output_type": "execute_result"
    }
   ],
   "source": [
    "hamlet_lines = splice_data.flatMap(lambda x: hamlet_speaks_filter(x))\n",
    "hamlet_lines.take(10)"
   ]
  },
  {
   "cell_type": "code",
   "execution_count": 6,
   "metadata": {
    "collapsed": false
   },
   "outputs": [
    {
     "data": {
      "text/plain": [
       "[['HAMLET', 'son to the late, and nephew to the present king.'],\n",
       " ['HAMLET', '[Aside]  A little more than kin, and less than kind.'],\n",
       " ['HAMLET', \"Not so, my lord; I am too much i' the sun.\"],\n",
       " ['HAMLET', 'Ay, madam, it is common.'],\n",
       " ['HAMLET', \"Seems, madam! nay it is; I know not 'seems.'\"]]"
      ]
     },
     "execution_count": 6,
     "metadata": {},
     "output_type": "execute_result"
    }
   ],
   "source": [
    "#Goal: Use filter to return lines of Hamlet dialogue\n",
    "\n",
    "def hamlet_speaks_filter2(x):\n",
    "    if 'HAMLET' in x[0]:\n",
    "        return  True\n",
    "    else:\n",
    "        return False\n",
    "\n",
    "hamlet_lines2 = splice_data.filter(lambda row: hamlet_speaks_filter2(row))\n",
    "hamlet_lines2.take(5)"
   ]
  },
  {
   "cell_type": "code",
   "execution_count": 7,
   "metadata": {
    "collapsed": false,
    "scrolled": true
   },
   "outputs": [
    {
     "data": {
      "text/plain": [
       "[['HAMLET', '[Aside]  A little more than kin, and less than kind.'],\n",
       " ['HAMLET', \"Not so, my lord; I am too much i' the sun.\"],\n",
       " ['HAMLET', 'Ay, madam, it is common.'],\n",
       " ['HAMLET', \"Seems, madam! nay it is; I know not 'seems.'\"],\n",
       " ['HAMLET', 'I shall in all my best obey you, madam.']]"
      ]
     },
     "execution_count": 7,
     "metadata": {},
     "output_type": "execute_result"
    }
   ],
   "source": [
    "#Remove the first line, which is a header\n",
    "\n",
    "hamlet_first_line = hamlet_lines2.take(1)\n",
    "hamlet_lines3 = hamlet_lines2.filter(lambda line: line[1] != hamlet_first_line[0][1])\n",
    "hamlet_lines3.take(5)"
   ]
  },
  {
   "cell_type": "code",
   "execution_count": 8,
   "metadata": {
    "collapsed": false
   },
   "outputs": [
    {
     "name": "stdout",
     "output_type": "stream",
     "text": [
      "Number of Hamlet Lines =  265\n",
      "Hamlet's 101'st line is:  [Aside]  Nay, then, I have an eye of you.--If you\n"
     ]
    }
   ],
   "source": [
    "#Find number of lines where Hamlet Spoke\n",
    "num_hamlet_lines = hamlet_lines3.count()\n",
    "print ('Number of Hamlet Lines = ', num_hamlet_lines)\n",
    "hamlet_dialogue = hamlet_lines3.collect()\n",
    "hamlet_line_101 = hamlet_dialogue[100][1]\n",
    "print ('Hamlet\\'s 101\\'st line is: ', hamlet_line_101)\n",
    "        "
   ]
  },
  {
   "cell_type": "code",
   "execution_count": 9,
   "metadata": {
    "collapsed": false
   },
   "outputs": [
    {
     "name": "stdout",
     "output_type": "stream",
     "text": [
      "Removed HAMLET Header\n",
      "['[Aside]  A little more than kin, and less than kind.', \"Not so, my lord; I am too much i' the sun.\", 'Ay, madam, it is common.', \"Seems, madam! nay it is; I know not 'seems.'\", 'I shall in all my best obey you, madam.'] \n",
      "\n",
      "Extract individual words\n",
      "['[Aside]', '', 'A', 'little', 'more', 'than', 'kin,', 'and', 'less', 'than', 'kind.', 'Not', 'so,', 'my', 'lord;'] \n",
      "\n",
      "Remove punctuation\n",
      "['Aside', 'A', 'little', 'more', 'than', 'kin', 'and', 'less', 'than', 'kind', 'Not', 'so', 'my', 'lord', 'I'] \n",
      "\n",
      "Most frequently used words\n",
      "[('you', 69), ('i', 68), ('the', 56), ('a', 54), ('it', 36), ('to', 32), ('not', 30), ('of', 28), ('and', 26), ('is', 25), ('that', 24), ('my', 23), ('but', 22), ('your', 18), ('do', 17), ('sir', 17), ('be', 16), ('this', 15), ('in', 15), ('for', 15)]\n"
     ]
    }
   ],
   "source": [
    "import string\n",
    "#Find the 20 highest frequency words Hamlet spoke\n",
    "\n",
    "#Remove \"HAMLET\" header\n",
    "hamlet_lines4 = hamlet_lines3.map(lambda line : line[1])\n",
    "print ('Removed HAMLET Header')\n",
    "print (hamlet_lines4.take(5), '\\n')\n",
    "\n",
    "#Splice by space\n",
    "hamlet_lines5 = hamlet_lines4.flatMap(lambda line: line.split(' '))\n",
    "print ('Extract individual words')\n",
    "print (hamlet_lines5.take(15), '\\n')\n",
    "\n",
    "#Remove all punctuation and empty lines\n",
    "hamlet_lines6 = hamlet_lines5.map(lambda line: line.translate(str.maketrans('','', string.punctuation )))\\\n",
    "     .filter(lambda line: line!='')\n",
    "print ('Remove punctuation')\n",
    "print (hamlet_lines6.take(15), '\\n')\n",
    "\n",
    "#Tally words and take top 20 most frequent words\n",
    "print ('Most frequently used words')\n",
    "hamlet_words = hamlet_lines6.map(lambda row: (row.lower(), 1))\\\n",
    "    .reduceByKey(lambda x, y: x+y)\\\n",
    "    .takeOrdered(20, key= lambda x : -x[1] )\n",
    "print (hamlet_words)"
   ]
  },
  {
   "cell_type": "code",
   "execution_count": 10,
   "metadata": {
    "collapsed": true
   },
   "outputs": [],
   "source": [
    "#NLTK Natural Language Processing Library\n",
    "import nltk"
   ]
  },
  {
   "cell_type": "code",
   "execution_count": null,
   "metadata": {
    "collapsed": true
   },
   "outputs": [],
   "source": [
    "#Open window and download stopwords database\n",
    "nltk.download()"
   ]
  },
  {
   "cell_type": "code",
   "execution_count": 11,
   "metadata": {
    "collapsed": false,
    "scrolled": true
   },
   "outputs": [
    {
     "name": "stdout",
     "output_type": "stream",
     "text": [
      "[('sir', 17), ('well', 14), ('mother', 12), ('man', 11), ('ay', 10), ('come', 10), ('thou', 8), ('let', 8), ('upon', 8), ('speak', 8), ('king', 8), ('good', 8), ('shall', 8), ('nay', 8), ('play', 7), ('ill', 6), ('horatio', 6), ('tis', 6), ('look', 6), ('go', 6)]\n"
     ]
    }
   ],
   "source": [
    "from nltk.corpus import stopwords\n",
    "#Remove stop words and print 20 most commonly used words\n",
    "stop_words = set(stopwords.words('English'))\n",
    "hamlet_words2 = hamlet_lines6.map(lambda row: (row.lower(), 1))\\\n",
    "    .filter(lambda line: line[0] not in stop_words)\\\n",
    "    .reduceByKey(lambda x, y: x+y)\\\n",
    "    .takeOrdered(20, key= lambda x : -x[1] )\n",
    "print (hamlet_words2)"
   ]
  },
  {
   "cell_type": "code",
   "execution_count": 17,
   "metadata": {
    "collapsed": false
   },
   "outputs": [
    {
     "data": {
      "image/png": "[encoded data removed]",
      "text/plain": [
       "<matplotlib.figure.Figure at 0x26f16f1a240>"
      ]
     },
     "metadata": {},
     "output_type": "display_data"
    }
   ],
   "source": [
    "#Plot bar graph of 10 most popular words spoken by Hamlet\n",
    "import matplotlib.pyplot as plt\n",
    "\n",
    "words =[x[0] for x in hamlet_words2]\n",
    "word_count = [x[1] for x in hamlet_words2]\n",
    "fig2 = plt.figure()\n",
    "sub = fig2.add_subplot(111)\n",
    "sub.bar(left=range(1,len(word_count)+1), height=word_count, align = 'center')\n",
    "#sub.set_xaxis([min(years),max(years)])\n",
    "sub.set_xlabel('Words')\n",
    "sub.set_ylabel('Word Count')\n",
    "sub.set_xticks(range(1,len(word_count)+1))\n",
    "sub.set_xticklabels(words, rotation = 90)\n",
    "sub.set_xlim(right = len(word_count)+1)\n",
    "sub.set_title('Most Frequent Words Spoken by Hamlet')\n",
    "plt.show()"
   ]
  },
  {
   "cell_type": "code",
   "execution_count": 18,
   "metadata": {
    "collapsed": false
   },
   "outputs": [],
   "source": [
    "sc.stop()\n"
   ]
  },
  {
   "cell_type": "code",
   "execution_count": null,
   "metadata": {
    "collapsed": false,
    "scrolled": true
   },
   "outputs": [],
   "source": []
  },
  {
   "cell_type": "code",
   "execution_count": null,
   "metadata": {
    "collapsed": false
   },
   "outputs": [],
   "source": []
  },
  {
   "cell_type": "code",
   "execution_count": null,
   "metadata": {
    "collapsed": false
   },
   "outputs": [],
   "source": [
    "\n"
   ]
  },
  {
   "cell_type": "code",
   "execution_count": null,
   "metadata": {
    "collapsed": false
   },
   "outputs": [],
   "source": []
  },
  {
   "cell_type": "code",
   "execution_count": 55,
   "metadata": {
    "collapsed": false
   },
   "outputs": [],
   "source": []
  },
  {
   "cell_type": "code",
   "execution_count": null,
   "metadata": {
    "collapsed": true
   },
   "outputs": [],
   "source": []
  }
 ],
 "metadata": {
  "anaconda-cloud": {},
  "kernelspec": {
   "display_name": "Python [conda root]",
   "language": "python",
   "name": "conda-root-py"
  },
  "language_info": {
   "codemirror_mode": {
    "name": "ipython",
    "version": 3
   },
   "file_extension": ".py",
   "mimetype": "text/x-python",
   "name": "python",
   "nbconvert_exporter": "python",
   "pygments_lexer": "ipython3",
   "version": "3.5.2"
  }
 },
 "nbformat": 4,
 "nbformat_minor": 1
}
